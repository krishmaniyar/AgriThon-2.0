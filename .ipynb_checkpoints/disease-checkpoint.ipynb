{
 "cells": [
  {
   "cell_type": "markdown",
   "id": "72ee37dc-83cd-4fa0-91d7-a9d67f5339b2",
   "metadata": {},
   "source": [
    "# Normalization"
   ]
  },
  {
   "cell_type": "code",
   "execution_count": 2,
   "id": "d6a0a419-b2c1-415c-a6e1-dc958d4b1990",
   "metadata": {},
   "outputs": [],
   "source": [
    "from PIL import Image\n",
    "import numpy as np\n",
    "import os\n",
    "import glob\n",
    "\n",
    "input_dir = '/home/krish/Downloads/AgriThon 2.0/Export/dis-seg/JPEGImages'\n",
    "output_dir = '/home/krish/Downloads/AgriThon 2.0/Export/dis-seg/augmented/normalized'\n",
    "os.makedirs(output_dir, exist_ok=True)\n",
    "\n",
    "image_files = glob.glob(os.path.join(input_dir, '*.jpg'))\n",
    "\n",
    "for path in image_files:\n",
    "    img = np.array(Image.open(path)).astype('float32') / 255.0\n",
    "    img_uint8 = (img * 255).astype('uint8')\n",
    "    Image.fromarray(img_uint8).save(os.path.join(output_dir, os.path.basename(path)))\n"
   ]
  },
  {
   "cell_type": "markdown",
   "id": "7b59723d-46e2-4618-bf38-a53a516e356e",
   "metadata": {},
   "source": [
    "# Rotation"
   ]
  },
  {
   "cell_type": "code",
   "execution_count": 4,
   "id": "a6223806-d712-41e1-9314-0deb27084226",
   "metadata": {},
   "outputs": [],
   "source": [
    "from PIL import Image\n",
    "import os\n",
    "import glob\n",
    "\n",
    "input_dir = '/home/krish/Downloads/AgriThon 2.0/Export/dis-seg/JPEGImages'\n",
    "output_dir = '/home/krish/Downloads/AgriThon 2.0/Export/dis-seg/augmented/rotated'\n",
    "os.makedirs(output_dir, exist_ok=True)\n",
    "\n",
    "image_files = glob.glob(os.path.join(input_dir, '*.jpg'))\n",
    "angles = [90, 180, 270]\n",
    "\n",
    "for path in image_files:\n",
    "    img = Image.open(path)\n",
    "    base = os.path.splitext(os.path.basename(path))[0]\n",
    "    for angle in angles:\n",
    "        rotated = img.rotate(angle, expand=True)\n",
    "        rotated.save(os.path.join(output_dir, f'{base}_rot{angle}.png'))\n"
   ]
  },
  {
   "cell_type": "markdown",
   "id": "584fec8f-f10a-48be-b062-34cb39063011",
   "metadata": {},
   "source": [
    "# Flipping"
   ]
  },
  {
   "cell_type": "code",
   "execution_count": 5,
   "id": "2c15b12a-d51a-45eb-9bd9-6a4450f13511",
   "metadata": {},
   "outputs": [],
   "source": [
    "from PIL import Image\n",
    "import os\n",
    "import glob\n",
    "\n",
    "input_dir = '/home/krish/Downloads/AgriThon 2.0/Export/dis-seg/JPEGImages'\n",
    "output_dir = '/home/krish/Downloads/AgriThon 2.0/Export/dis-seg/augmented/flipped'\n",
    "os.makedirs(output_dir, exist_ok=True)\n",
    "\n",
    "image_files = glob.glob(os.path.join(input_dir, '*.jpg'))\n",
    "\n",
    "for path in image_files:\n",
    "    img = Image.open(path)\n",
    "    base = os.path.splitext(os.path.basename(path))[0]\n",
    "\n",
    "    img.transpose(Image.FLIP_LEFT_RIGHT).save(os.path.join(output_dir, f'{base}_hflip.png'))\n",
    "    img.transpose(Image.FLIP_TOP_BOTTOM).save(os.path.join(output_dir, f'{base}_vflip.png'))\n"
   ]
  },
  {
   "cell_type": "markdown",
   "id": "865d1564-1930-4152-8f73-c6b6a0b2f7d2",
   "metadata": {},
   "source": [
    "# Color Jittering"
   ]
  },
  {
   "cell_type": "code",
   "execution_count": 7,
   "id": "648e0756-ce15-4b60-b7d6-d78956ffffde",
   "metadata": {},
   "outputs": [],
   "source": [
    "from PIL import Image, ImageEnhance\n",
    "import os, glob, random\n",
    "\n",
    "input_dir = '/home/krish/Downloads/AgriThon 2.0/Export/dis-seg/JPEGImages'\n",
    "output_dir = '/home/krish/Downloads/AgriThon 2.0/Export/dis-seg/augmented/color_jittered'\n",
    "os.makedirs(output_dir, exist_ok=True)\n",
    "\n",
    "image_files = glob.glob(os.path.join(input_dir, '*.jpg'))\n",
    "\n",
    "for path in image_files:\n",
    "    img = Image.open(path)\n",
    "    base = os.path.splitext(os.path.basename(path))[0]\n",
    "\n",
    "    # Random jitter\n",
    "    brightness = ImageEnhance.Brightness(img).enhance(random.uniform(0.7, 1.3))\n",
    "    contrast = ImageEnhance.Contrast(brightness).enhance(random.uniform(0.7, 1.3))\n",
    "    color = ImageEnhance.Color(contrast).enhance(random.uniform(0.7, 1.3))\n",
    "\n",
    "    color.save(os.path.join(output_dir, f'{base}_jitter.png'))\n"
   ]
  },
  {
   "cell_type": "markdown",
   "id": "d6400ba3-062d-4c59-9840-398069e9ea38",
   "metadata": {},
   "source": [
    "# Contrast Enhancement "
   ]
  },
  {
   "cell_type": "code",
   "execution_count": 8,
   "id": "0da610a6-011c-42fd-8299-a477f06cc1ee",
   "metadata": {},
   "outputs": [],
   "source": [
    "from PIL import Image, ImageEnhance\n",
    "import os, glob\n",
    "\n",
    "input_dir = '/home/krish/Downloads/AgriThon 2.0/Export/dis-seg/JPEGImages'\n",
    "output_dir = '/home/krish/Downloads/AgriThon 2.0/Export/dis-seg/augmented/contrast'\n",
    "os.makedirs(output_dir, exist_ok=True)\n",
    "\n",
    "image_files = glob.glob(os.path.join(input_dir, '*.jpg'))\n",
    "\n",
    "for path in image_files:\n",
    "    img = Image.open(path)\n",
    "    base = os.path.splitext(os.path.basename(path))[0]\n",
    "\n",
    "    enhanced = ImageEnhance.Contrast(img).enhance(1.5)\n",
    "    enhanced.save(os.path.join(output_dir, f'{base}_contrast.png'))\n"
   ]
  },
  {
   "cell_type": "code",
   "execution_count": null,
   "id": "889e495b-9d3b-4c1d-b392-c24ba6ceb552",
   "metadata": {},
   "outputs": [],
   "source": []
  }
 ],
 "metadata": {
  "kernelspec": {
   "display_name": "Python 3 (ipykernel)",
   "language": "python",
   "name": "python3"
  },
  "language_info": {
   "codemirror_mode": {
    "name": "ipython",
    "version": 3
   },
   "file_extension": ".py",
   "mimetype": "text/x-python",
   "name": "python",
   "nbconvert_exporter": "python",
   "pygments_lexer": "ipython3",
   "version": "3.12.7"
  }
 },
 "nbformat": 4,
 "nbformat_minor": 5
}
